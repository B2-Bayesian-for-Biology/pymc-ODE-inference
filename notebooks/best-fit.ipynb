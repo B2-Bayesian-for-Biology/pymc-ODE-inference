{
 "cells": [
  {
   "cell_type": "markdown",
   "id": "9df0d3d2-48c3-4463-baba-569ad751f82a",
   "metadata": {},
   "source": [
    "## Best fitting parameters.\n",
    "In this notebook we would use the ODE based model to find out the best fitting parameters, using different standard and non-standard packages. Please feel free to use this an an example template to get started with your own workflow. Good luck."
   ]
  },
  {
   "cell_type": "markdown",
   "id": "bbbc7a46-f920-49d4-8666-898cab337c16",
   "metadata": {},
   "source": [
    "First we are going to load the data."
   ]
  },
  {
   "cell_type": "code",
   "execution_count": 1,
   "id": "7ffb7508-e92e-48ac-b1b2-e6d8e440e37a",
   "metadata": {},
   "outputs": [],
   "source": [
    "import csv\n",
    "import pandas as pd"
   ]
  },
  {
   "cell_type": "code",
   "execution_count": 2,
   "id": "be58dd7d-20c4-41a0-8829-0888e50b8707",
   "metadata": {},
   "outputs": [],
   "source": [
    "data = pd.read_csv(\"./../data/in_silico_growth_curve.csv\")"
   ]
  },
  {
   "cell_type": "markdown",
   "id": "d1a31632-fc6d-496d-a0cd-8f4cd2105cfc",
   "metadata": {},
   "source": [
    "Let's see what the datafile contents are."
   ]
  },
  {
   "cell_type": "code",
   "execution_count": 3,
   "id": "ea7236c0-b5b0-47c4-9600-6e11d00da8a9",
   "metadata": {},
   "outputs": [
    {
     "data": {
      "text/html": [
       "<div>\n",
       "<style scoped>\n",
       "    .dataframe tbody tr th:only-of-type {\n",
       "        vertical-align: middle;\n",
       "    }\n",
       "\n",
       "    .dataframe tbody tr th {\n",
       "        vertical-align: top;\n",
       "    }\n",
       "\n",
       "    .dataframe thead th {\n",
       "        text-align: right;\n",
       "    }\n",
       "</style>\n",
       "<table border=\"1\" class=\"dataframe\">\n",
       "  <thead>\n",
       "    <tr style=\"text-align: right;\">\n",
       "      <th></th>\n",
       "      <th>times</th>\n",
       "      <th>cells</th>\n",
       "    </tr>\n",
       "  </thead>\n",
       "  <tbody>\n",
       "    <tr>\n",
       "      <th>0</th>\n",
       "      <td>0.000000</td>\n",
       "      <td>8677.144668</td>\n",
       "    </tr>\n",
       "    <tr>\n",
       "      <th>1</th>\n",
       "      <td>1.500000</td>\n",
       "      <td>26920.855990</td>\n",
       "    </tr>\n",
       "    <tr>\n",
       "      <th>2</th>\n",
       "      <td>3.000000</td>\n",
       "      <td>63176.862474</td>\n",
       "    </tr>\n",
       "    <tr>\n",
       "      <th>3</th>\n",
       "      <td>4.500000</td>\n",
       "      <td>249712.054657</td>\n",
       "    </tr>\n",
       "    <tr>\n",
       "      <th>4</th>\n",
       "      <td>6.000000</td>\n",
       "      <td>442178.369581</td>\n",
       "    </tr>\n",
       "    <tr>\n",
       "      <th>5</th>\n",
       "      <td>7.500001</td>\n",
       "      <td>802923.563655</td>\n",
       "    </tr>\n",
       "    <tr>\n",
       "      <th>6</th>\n",
       "      <td>9.000001</td>\n",
       "      <td>875907.621559</td>\n",
       "    </tr>\n",
       "    <tr>\n",
       "      <th>7</th>\n",
       "      <td>10.500001</td>\n",
       "      <td>856617.310790</td>\n",
       "    </tr>\n",
       "    <tr>\n",
       "      <th>8</th>\n",
       "      <td>12.000001</td>\n",
       "      <td>885705.601724</td>\n",
       "    </tr>\n",
       "    <tr>\n",
       "      <th>9</th>\n",
       "      <td>13.500001</td>\n",
       "      <td>912408.715922</td>\n",
       "    </tr>\n",
       "  </tbody>\n",
       "</table>\n",
       "</div>"
      ],
      "text/plain": [
       "       times          cells\n",
       "0   0.000000    8677.144668\n",
       "1   1.500000   26920.855990\n",
       "2   3.000000   63176.862474\n",
       "3   4.500000  249712.054657\n",
       "4   6.000000  442178.369581\n",
       "5   7.500001  802923.563655\n",
       "6   9.000001  875907.621559\n",
       "7  10.500001  856617.310790\n",
       "8  12.000001  885705.601724\n",
       "9  13.500001  912408.715922"
      ]
     },
     "execution_count": 3,
     "metadata": {},
     "output_type": "execute_result"
    }
   ],
   "source": [
    "data"
   ]
  },
  {
   "cell_type": "markdown",
   "id": "98397e9a-882b-4d33-9f76-794354c0fae5",
   "metadata": {},
   "source": [
    "It's a very small dataset with just 10 time points showing the number of cells over time. With these short time series, both having a mechanistic model to fit it and having a Bayesian framework to do so helps us to make better sense of the science behind the process. We can visualize the data as."
   ]
  },
  {
   "cell_type": "code",
   "execution_count": 4,
   "id": "dc9d2ea2-efd0-4837-8012-135c2d22042f",
   "metadata": {},
   "outputs": [
    {
     "data": {
      "text/plain": [
       "Text(0, 0.5, 'cells')"
      ]
     },
     "execution_count": 4,
     "metadata": {},
     "output_type": "execute_result"
    },
    {
     "data": {
      "image/png": "[encoded data removed]",
      "text/plain": [
       "<Figure size 640x480 with 1 Axes>"
      ]
     },
     "metadata": {},
     "output_type": "display_data"
    }
   ],
   "source": [
    "import matplotlib.pyplot as plt\n",
    "plt.plot(data['times'],data['cells'],'o',color ='orange')\n",
    "plt.xlabel(data.columns[0])\n",
    "plt.ylabel(data.columns[1])\n"
   ]
  },
  {
   "cell_type": "markdown",
   "id": "0c9c89a6-8ae1-438a-a93a-5e7c5b40dfd8",
   "metadata": {},
   "source": [
    "However that can be complicated, let's start with the most simple way of fitting a nonlinear ODE model to the data."
   ]
  },
  {
   "cell_type": "markdown",
   "id": "eefe9fd2-8dde-492e-a462-5a46056366bc",
   "metadata": {},
   "source": [
    "### Use of Biological Mechanistic knowledge.\n",
    "This data is a growth data of the cells where they consume nutrients and we can use the blahblah model"
   ]
  },
  {
   "cell_type": "markdown",
   "id": "c099ab67-46d7-43db-8b81-338c89e80798",
   "metadata": {},
   "source": [
    "$$\n",
    "\\frac{dN}{dt} = -Q_n \\frac{\\mu_{max}N}{N+K_s}(P\\times10^6)\n",
    "$$\n",
    "\n",
    "$$\n",
    "\\frac{dP}{dt} = \\frac{\\mu_{max}N}{N+K_s} P\n",
    "$$"
   ]
  },
  {
   "cell_type": "markdown",
   "id": "36f85bbe-e3af-4106-a625-d67e45a917a0",
   "metadata": {},
   "source": [
    "### In this dataset the variable 'N' (nutrients) is latent (unobserved)"
   ]
  },
  {
   "cell_type": "code",
   "execution_count": 5,
   "id": "c6e014a7-26b8-4af2-99af-ce9f99affd6e",
   "metadata": {},
   "outputs": [],
   "source": [
    "import numpy as np\n",
    "from scipy.integrate import odeint\n",
    "t = np.linspace(0, 15, 100)\n",
    "\n",
    "def cells_grow(y,t,mu_max,Ks,Qn):\n",
    "    N, P = y\n",
    "    dydt = [0,0]\n",
    "    dydt[0] = -Qn*(mu_max*N)/(N+Ks) *(P*1e6)\n",
    "    dydt[1] = P*(mu_max*N)/(N+Ks)\n",
    "\n",
    "    return dydt\n",
    "\n",
    "def solved_num_cells(y0,t,mu_max,Ks,Qn):\n",
    "    sol = odeint(cells_grow, y0, t, args=(mu_max,Ks,Qn))\n",
    "    return sol[:,1]"
   ]
  },
  {
   "cell_type": "code",
   "execution_count": 6,
   "id": "e7a0df1b-0cfd-4b6a-81c1-002ce804874d",
   "metadata": {},
   "outputs": [
    {
     "data": {
      "image/png": "[encoded data removed]",
      "text/plain": [
       "<Figure size 640x480 with 1 Axes>"
      ]
     },
     "metadata": {},
     "output_type": "display_data"
    }
   ],
   "source": [
    "mu_max = 0.6\n",
    "Ks = 0.09\n",
    "Qn = 6.7e-10\n",
    "\n",
    "y0 = [ 6e2, data['cells'][0] ]\n",
    "num_cells_solved = solved_num_cells(y0,t,mu_max,Ks,Qn)\n",
    "\n",
    "plt.plot(t,num_cells_solved)\n",
    "plt.plot(data['times'],data['cells'],'o')\n",
    "plt.yscale('log')\n",
    "plt.legend(['Simulation','real data'])\n",
    "plt.xlabel('Time')\n",
    "plt.ylabel('cells')\n",
    "plt.show()\n"
   ]
  },
  {
   "cell_type": "markdown",
   "id": "5ca69a7b-1b94-434e-b06c-b063d9c70b5f",
   "metadata": {},
   "source": [
    "### Using least square regression (scipy)"
   ]
  },
  {
   "cell_type": "markdown",
   "id": "9b0d22ad-efac-42b1-8479-a7c770e6ee64",
   "metadata": {},
   "source": [
    "Often microbial data spans across orders of magnitude and fitting without transforming to log-scale would only place emphasis on the higher orders of magnitude and can completely ignore the lower order of magnitudes."
   ]
  },
  {
   "cell_type": "code",
   "execution_count": 35,
   "id": "344208a8-9028-4fb2-87c2-97e99c581bfb",
   "metadata": {},
   "outputs": [
    {
     "name": "stdout",
     "output_type": "stream",
     "text": [
      "   Iteration     Total nfev        Cost      Cost reduction    Step norm     Optimality   \n",
      "       0              1         1.6646e-01                                    6.96e+07    \n",
      "       1             22         1.0289e-01      6.36e-02       9.09e-10       5.37e+07    \n",
      "       2             24         6.0110e-02      4.28e-02       4.55e-10       9.90e+06    \n",
      "       3             30         6.0110e-02      0.00e+00       0.00e+00       9.90e+06    \n",
      "`xtol` termination condition is satisfied.\n",
      "Function evaluations 30, initial cost 1.6646e-01, final cost 6.0110e-02, first-order optimality 9.90e+06.\n",
      "Final cost value: 0.060109764358545\n",
      "Optimized parameters: mu_max=0.6, Ks=0.09, Qn=1.1247474345827061e-09, N0=1000.0\n"
     ]
    }
   ],
   "source": [
    "from scipy.optimize import least_squares\n",
    "\n",
    "# Define the cost function\n",
    "def cost_function(params, data, log_transformed = True):\n",
    "    mu_max, Ks, Qn, N0 = params\n",
    "    y0 = [ N0, data['cells'][0] ]\n",
    "    num_cells_solved = solved_num_cells(y0, data['times'], mu_max, Ks, Qn)\n",
    "    #return (num_cells_solved - data['cells']) \n",
    "    if log_transformed is True:\n",
    "        #error  =  np.sum((np.log(num_cells_solved)/2.303 - np.log(data['cells'])/2.303)**2)\n",
    "        #error  =  np.log(num_cells_solved)/2.303 - np.log(data['cells'])/2.303\n",
    "        ## please do not manaully write sum of square errors, the least_square module does it for you.\n",
    "        \n",
    "        error  =  (np.log(num_cells_solved)/2.303 - np.log(data['cells'])/2.303).values.flatten()\n",
    "    else:\n",
    "        #error  =  np.sum((num_cells_solved - data['cells'] )**2) # was a mistake\n",
    "        error  =  (num_cells_solved - data['cells']).values.flatten()\n",
    "    return error\n",
    "\n",
    "\n",
    "# Initial guess for the parameters\n",
    "#[0.5, 1, 6.7e-10, 6e2]\n",
    "initial_guess =  [0.6, 0.09, 6.7e-10,10e2]\n",
    "\n",
    "# Least squares fitting\n",
    "result = least_squares(cost_function, initial_guess, args=(data,),\n",
    "                       loss = 'linear',verbose=2,xtol=1e-15)\n",
    "\n",
    "# Check the final cost value\n",
    "print(f\"Final cost value: {result.cost}\")\n",
    "\n",
    "# Optimized parameters\n",
    "mu_max_opt, Ks_opt, Qn_opt, N0_opt = result.x\n",
    "print(f\"Optimized parameters: mu_max={mu_max_opt}, Ks={Ks_opt}, Qn={Qn_opt}, N0={N0_opt}\")"
   ]
  },
  {
   "cell_type": "code",
   "execution_count": 36,
   "id": "e485adaa-9192-4e66-b7f5-aa7c8f0c375c",
   "metadata": {},
   "outputs": [],
   "source": [
    "# Define the cost function\n",
    "def cost_function_ls(params, data, log_transformed = True):\n",
    "    mu_max, Ks, Qn, N0 = params\n",
    "    y0 = [ N0, data['cells'][0] ]\n",
    "    num_cells_solved = solved_num_cells(y0, data['times'], mu_max, Ks, Qn)\n",
    "    #return (num_cells_solved - data['cells']) \n",
    "    if log_transformed is True:\n",
    "        #error  =  np.sum((np.log(num_cells_solved)/2.303 - np.log(data['cells'])/2.303)**2)\n",
    "        #error  =  np.log(num_cells_solved)/2.303 - np.log(data['cells'])/2.303\n",
    "        ## please do not manaully write sum of square errors, the least_square module does it for you.\n",
    "        \n",
    "        error  =  np.sum( (np.log(num_cells_solved)/np.log(10) - np.log(data['cells'])/np.log(10))**2 )\n",
    "    else:\n",
    "        #error  =  np.sum((num_cells_solved - data['cells'] )**2) # was a mistake\n",
    "        error  =  np.sum( (num_cells_solved - data['cells'])**2 )\n",
    "    return error\n",
    "\n"
   ]
  },
  {
   "cell_type": "code",
   "execution_count": 37,
   "id": "b12e6107-896d-440f-8073-590413380eb6",
   "metadata": {},
   "outputs": [
    {
     "data": {
      "text/plain": [
       "0.12057536925915237"
      ]
     },
     "execution_count": 37,
     "metadata": {},
     "output_type": "execute_result"
    }
   ],
   "source": [
    "cost_function_ls( [0.6, 0.09, 6.7e-10,6e2], data)"
   ]
  },
  {
   "cell_type": "code",
   "execution_count": 38,
   "id": "f572520c-a4c5-4f7d-8670-8e0de6b79bb8",
   "metadata": {},
   "outputs": [
    {
     "data": {
      "text/plain": [
       "0.12026285777263401"
      ]
     },
     "execution_count": 38,
     "metadata": {},
     "output_type": "execute_result"
    }
   ],
   "source": [
    "cost_function_ls( [mu_max_opt, Ks_opt, Qn_opt,N0_opt], data)"
   ]
  },
  {
   "cell_type": "markdown",
   "id": "466acd1e-4116-4854-9c23-065f880ea0f4",
   "metadata": {},
   "source": [
    "__You can also use solve_ivp to solve the ODEs__"
   ]
  },
  {
   "cell_type": "code",
   "execution_count": 40,
   "id": "823ca2ba-a668-4be6-b30e-68cefb73f97f",
   "metadata": {
    "scrolled": true
   },
   "outputs": [
    {
     "data": {
      "image/png": "[encoded data removed]",
      "text/plain": [
       "<Figure size 640x480 with 1 Axes>"
      ]
     },
     "metadata": {},
     "output_type": "display_data"
    }
   ],
   "source": [
    "y0 = [  N0_opt, data['cells'][0] ]\n",
    "num_cells_solved = solved_num_cells(y0,data['times'],mu_max_opt, Ks_opt, Qn_opt)\n",
    "\n",
    "plt.plot(data['times'],num_cells_solved,'-o')\n",
    "plt.yscale('log')\n",
    "plt.plot(data['times'],data['cells'],'o')\n",
    "plt.legend(['Least square fit scipy','real data'])\n",
    "plt.xlabel('Time')\n",
    "plt.ylabel('cells')\n",
    "plt.show()\n"
   ]
  },
  {
   "cell_type": "markdown",
   "id": "60a669c3-0ed5-4beb-8b4b-70cf6cc2cb0d",
   "metadata": {},
   "source": [
    "I had to play with the initial conditions to get this better fit. This package can be __sensitive to the initial conditions, and the set tolerance values__"
   ]
  },
  {
   "cell_type": "markdown",
   "id": "5b03db36-a7bc-4701-a68a-0bff840c4785",
   "metadata": {},
   "source": [
    "__Suggestions__ Many times xtol criteria is met --> we can reparameterize such that the scales of the parameters are same, that will help evade this problem with the xtol criteria. If I have time I will come back to this and demonstrate. "
   ]
  },
  {
   "cell_type": "markdown",
   "id": "d8d42b47-08e4-4a16-82e6-bad1206df891",
   "metadata": {},
   "source": [
    "### Using curvefit"
   ]
  },
  {
   "cell_type": "markdown",
   "id": "2f1f92ad-4ef5-4a12-ab48-84da2a0b22b7",
   "metadata": {},
   "source": [
    "Should not do this as this is highly unstable -- this method works fine for closed form solutions -- gets difficult for where we only have ODE which is to be solved numerically."
   ]
  },
  {
   "cell_type": "code",
   "execution_count": null,
   "id": "876f4edd-69fc-4267-aae6-cc02d2747c95",
   "metadata": {},
   "outputs": [],
   "source": []
  },
  {
   "cell_type": "code",
   "execution_count": null,
   "id": "aa54b4d8-9d50-4b09-b6a6-d6930d1670b9",
   "metadata": {},
   "outputs": [],
   "source": []
  }
 ],
 "metadata": {
  "kernelspec": {
   "display_name": "Python 3 (ipykernel)",
   "language": "python",
   "name": "python3"
  },
  "language_info": {
   "codemirror_mode": {
    "name": "ipython",
    "version": 3
   },
   "file_extension": ".py",
   "mimetype": "text/x-python",
   "name": "python",
   "nbconvert_exporter": "python",
   "pygments_lexer": "ipython3",
   "version": "3.11.4"
  }
 },
 "nbformat": 4,
 "nbformat_minor": 5
}
