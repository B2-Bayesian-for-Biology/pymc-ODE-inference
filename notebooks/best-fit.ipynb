{
 "cells": [
  {
   "cell_type": "markdown",
   "id": "9df0d3d2-48c3-4463-baba-569ad751f82a",
   "metadata": {},
   "source": [
    "## Best fitting parameters.\n",
    "In this notebook we would use the ODE based model to find out the best fitting parameters, using different standard and non-standard packages. Please feel free to use this an an example template to get started with your own workflow. Good luck."
   ]
  },
  {
   "cell_type": "markdown",
   "id": "bbbc7a46-f920-49d4-8666-898cab337c16",
   "metadata": {},
   "source": [
    "First we are going to load the data."
   ]
  },
  {
   "cell_type": "code",
   "execution_count": 3,
   "id": "7ffb7508-e92e-48ac-b1b2-e6d8e440e37a",
   "metadata": {},
   "outputs": [],
   "source": [
    "import csv\n",
    "import pandas as pd"
   ]
  },
  {
   "cell_type": "code",
   "execution_count": 5,
   "id": "be58dd7d-20c4-41a0-8829-0888e50b8707",
   "metadata": {},
   "outputs": [],
   "source": [
    "data = pd.read_csv(\"./../data/in_silico_growth_curve.csv\")"
   ]
  },
  {
   "cell_type": "markdown",
   "id": "d1a31632-fc6d-496d-a0cd-8f4cd2105cfc",
   "metadata": {},
   "source": [
    "Let's see what the datafile contents are."
   ]
  },
  {
   "cell_type": "code",
   "execution_count": 6,
   "id": "ea7236c0-b5b0-47c4-9600-6e11d00da8a9",
   "metadata": {},
   "outputs": [
    {
     "data": {
      "text/html": [
       "<div>\n",
       "<style scoped>\n",
       "    .dataframe tbody tr th:only-of-type {\n",
       "        vertical-align: middle;\n",
       "    }\n",
       "\n",
       "    .dataframe tbody tr th {\n",
       "        vertical-align: top;\n",
       "    }\n",
       "\n",
       "    .dataframe thead th {\n",
       "        text-align: right;\n",
       "    }\n",
       "</style>\n",
       "<table border=\"1\" class=\"dataframe\">\n",
       "  <thead>\n",
       "    <tr style=\"text-align: right;\">\n",
       "      <th></th>\n",
       "      <th>times</th>\n",
       "      <th>cells</th>\n",
       "    </tr>\n",
       "  </thead>\n",
       "  <tbody>\n",
       "    <tr>\n",
       "      <th>0</th>\n",
       "      <td>0.000000</td>\n",
       "      <td>8677.144668</td>\n",
       "    </tr>\n",
       "    <tr>\n",
       "      <th>1</th>\n",
       "      <td>1.500000</td>\n",
       "      <td>26920.855990</td>\n",
       "    </tr>\n",
       "    <tr>\n",
       "      <th>2</th>\n",
       "      <td>3.000000</td>\n",
       "      <td>63176.862474</td>\n",
       "    </tr>\n",
       "    <tr>\n",
       "      <th>3</th>\n",
       "      <td>4.500000</td>\n",
       "      <td>249712.054657</td>\n",
       "    </tr>\n",
       "    <tr>\n",
       "      <th>4</th>\n",
       "      <td>6.000000</td>\n",
       "      <td>442178.369581</td>\n",
       "    </tr>\n",
       "    <tr>\n",
       "      <th>5</th>\n",
       "      <td>7.500001</td>\n",
       "      <td>802923.563655</td>\n",
       "    </tr>\n",
       "    <tr>\n",
       "      <th>6</th>\n",
       "      <td>9.000001</td>\n",
       "      <td>875907.621559</td>\n",
       "    </tr>\n",
       "    <tr>\n",
       "      <th>7</th>\n",
       "      <td>10.500001</td>\n",
       "      <td>856617.310790</td>\n",
       "    </tr>\n",
       "    <tr>\n",
       "      <th>8</th>\n",
       "      <td>12.000001</td>\n",
       "      <td>885705.601724</td>\n",
       "    </tr>\n",
       "    <tr>\n",
       "      <th>9</th>\n",
       "      <td>13.500001</td>\n",
       "      <td>912408.715922</td>\n",
       "    </tr>\n",
       "  </tbody>\n",
       "</table>\n",
       "</div>"
      ],
      "text/plain": [
       "       times          cells\n",
       "0   0.000000    8677.144668\n",
       "1   1.500000   26920.855990\n",
       "2   3.000000   63176.862474\n",
       "3   4.500000  249712.054657\n",
       "4   6.000000  442178.369581\n",
       "5   7.500001  802923.563655\n",
       "6   9.000001  875907.621559\n",
       "7  10.500001  856617.310790\n",
       "8  12.000001  885705.601724\n",
       "9  13.500001  912408.715922"
      ]
     },
     "execution_count": 6,
     "metadata": {},
     "output_type": "execute_result"
    }
   ],
   "source": [
    "data"
   ]
  },
  {
   "cell_type": "markdown",
   "id": "98397e9a-882b-4d33-9f76-794354c0fae5",
   "metadata": {},
   "source": [
    "It's a very small dataset with just 10 time points showing the number of cells over time. With these short time series, both having a mechanistic model to fit it and having a Bayesian framework to do so helps us to make better sense of the science behind the process. We can visualize the data as."
   ]
  },
  {
   "cell_type": "code",
   "execution_count": 138,
   "id": "dc9d2ea2-efd0-4837-8012-135c2d22042f",
   "metadata": {},
   "outputs": [
    {
     "data": {
      "text/plain": [
       "Text(0, 0.5, 'cells')"
      ]
     },
     "execution_count": 138,
     "metadata": {},
     "output_type": "execute_result"
    },
    {
     "data": {
      "image/png": "[encoded data removed]",
      "text/plain": [
       "<Figure size 640x480 with 1 Axes>"
      ]
     },
     "metadata": {},
     "output_type": "display_data"
    }
   ],
   "source": [
    "import matplotlib.pyplot as plt\n",
    "plt.plot(data['times'],data['cells'],'o',color ='orange')\n",
    "plt.xlabel(data.columns[0])\n",
    "plt.ylabel(data.columns[1])\n"
   ]
  },
  {
   "cell_type": "markdown",
   "id": "0c9c89a6-8ae1-438a-a93a-5e7c5b40dfd8",
   "metadata": {},
   "source": [
    "However that can be complicated, let's start with the most simple way of fitting a nonlinear ODE model to the data."
   ]
  },
  {
   "cell_type": "markdown",
   "id": "eefe9fd2-8dde-492e-a462-5a46056366bc",
   "metadata": {},
   "source": [
    "### Use of Biological Mechanistic knowledge.\n",
    "This data is a growth data of the cells where they consume nutrients and we can use the blahblah model"
   ]
  },
  {
   "cell_type": "markdown",
   "id": "c099ab67-46d7-43db-8b81-338c89e80798",
   "metadata": {},
   "source": [
    "$$\n",
    "\\frac{dN}{dt} = -Q_n \\frac{\\mu_{max}N}{N+K_s}(P\\times10^6)\n",
    "$$\n",
    "\n",
    "$$\n",
    "\\frac{dP}{dt} = \\frac{\\mu_{max}N}{N+K_s} P\n",
    "$$"
   ]
  },
  {
   "cell_type": "markdown",
   "id": "36f85bbe-e3af-4106-a625-d67e45a917a0",
   "metadata": {},
   "source": [
    "### In this dataset the variable 'N' (nutrients) is latent (unobserved)"
   ]
  },
  {
   "cell_type": "code",
   "execution_count": 63,
   "id": "c6e014a7-26b8-4af2-99af-ce9f99affd6e",
   "metadata": {},
   "outputs": [],
   "source": [
    "import numpy as np\n",
    "from scipy.integrate import odeint\n",
    "t = np.linspace(0, 15, 100)\n",
    "\n",
    "def cells_grow(y,t,mu_max,Ks,Qn):\n",
    "    N, P = y\n",
    "    dydt = [0,0]\n",
    "    dydt[0] = -Qn*(mu_max*N)/(N+Ks) *(P*1e6)\n",
    "    dydt[1] = P*(mu_max*N)/(N+Ks)\n",
    "\n",
    "    return dydt\n",
    "\n",
    "def solved_num_cells(y0,t,mu_max,Ks,Qn):\n",
    "    sol = odeint(cells_grow, y0, t, args=(mu_max,Ks,Qn))\n",
    "    return sol[:,1]"
   ]
  },
  {
   "cell_type": "code",
   "execution_count": 64,
   "id": "e7a0df1b-0cfd-4b6a-81c1-002ce804874d",
   "metadata": {},
   "outputs": [
    {
     "data": {
      "image/png": "[encoded data removed]",
      "text/plain": [
       "<Figure size 640x480 with 1 Axes>"
      ]
     },
     "metadata": {},
     "output_type": "display_data"
    }
   ],
   "source": [
    "mu_max = 0.6\n",
    "Ks = 0.09\n",
    "Qn = 6.7e-10\n",
    "\n",
    "y0 = [ 6e2, data['cells'][0] ]\n",
    "num_cells_solved = solved_num_cells(y0,t,mu_max,Ks,Qn)\n",
    "\n",
    "plt.plot(t,num_cells_solved)\n",
    "plt.plot(data['times'],data['cells'],'o')\n",
    "plt.legend(['Simulation','real data'])\n",
    "plt.xlabel('Time')\n",
    "plt.ylabel('cells')\n",
    "plt.show()\n"
   ]
  },
  {
   "cell_type": "markdown",
   "id": "5ca69a7b-1b94-434e-b06c-b063d9c70b5f",
   "metadata": {},
   "source": [
    "### Using least square regression (scipy)"
   ]
  },
  {
   "cell_type": "markdown",
   "id": "9b0d22ad-efac-42b1-8479-a7c770e6ee64",
   "metadata": {},
   "source": [
    "Often microbial data spans across orders of magnitude and fitting without transforming to log-scale would only place emphasis on the higher orders of magnitude and can completely ignore the lower order of magnitudes."
   ]
  },
  {
   "cell_type": "code",
   "execution_count": 129,
   "id": "344208a8-9028-4fb2-87c2-97e99c581bfb",
   "metadata": {},
   "outputs": [
    {
     "name": "stdout",
     "output_type": "stream",
     "text": [
      "   Iteration     Total nfev        Cost      Cost reduction    Step norm     Optimality   \n",
      "       0              1         2.9565e-01                                    4.55e+07    \n",
      "       1              4         2.7539e-01      2.03e-02       3.75e+01       1.14e+08    \n",
      "       2             16         2.7539e-01      0.00e+00       0.00e+00       1.14e+08    \n",
      "`xtol` termination condition is satisfied.\n",
      "Function evaluations 16, initial cost 2.9565e-01, final cost 2.7539e-01, first-order optimality 1.14e+08.\n",
      "Final cost value: 0.2753918731596441\n",
      "Optimized parameters: mu_max=0.6457273672100075, Ks=36.98094242731047, Qn=1.4206079262430242e-09, N0=610.5643470403767\n"
     ]
    }
   ],
   "source": [
    "from scipy.optimize import least_squares\n",
    "\n",
    "# Define the cost function\n",
    "def cost_function(params, data, log_transformed = True):\n",
    "    mu_max, Ks, Qn, N0 = params\n",
    "    y0 = [ N0, data['cells'][0] ]\n",
    "    num_cells_solved = solved_num_cells(y0, data['times'], mu_max, Ks, Qn)\n",
    "    #return (num_cells_solved - data['cells']) \n",
    "    if log_transformed is True:\n",
    "        #error  =  np.sum((np.log(num_cells_solved)/2.303 - np.log(data['cells'])/2.303)**2)\n",
    "        #error  =  np.log(num_cells_solved)/2.303 - np.log(data['cells'])/2.303\n",
    "        ## please do not manaully write sum of square errors, the least_square module does it for you.\n",
    "        \n",
    "        error  =  (np.log(num_cells_solved)/2.303 - np.log(data['cells'])/2.303).values.flatten()\n",
    "    else:\n",
    "        #error  =  np.sum((num_cells_solved - data['cells'] )**2) # was a mistake\n",
    "        error  =  (num_cells_solved - data['cells']).values.flatten()\n",
    "    return error\n",
    "\n",
    "\n",
    "# Initial guess for the parameters\n",
    "initial_guess = [0.5, 1, 6.7e-10, 6e2]\n",
    "\n",
    "# Least squares fitting\n",
    "result = least_squares(cost_function, initial_guess, args=(data,),\n",
    "                       loss = 'linear',verbose=2)\n",
    "\n",
    "# Check the final cost value\n",
    "print(f\"Final cost value: {result.cost}\")\n",
    "\n",
    "# Optimized parameters\n",
    "mu_max_opt, Ks_opt, Qn_opt, N0_opt = result.x\n",
    "print(f\"Optimized parameters: mu_max={mu_max_opt}, Ks={Ks_opt}, Qn={Qn_opt}, N0={N0_opt}\")"
   ]
  },
  {
   "cell_type": "code",
   "execution_count": 131,
   "id": "e485adaa-9192-4e66-b7f5-aa7c8f0c375c",
   "metadata": {},
   "outputs": [],
   "source": [
    "# Define the cost function\n",
    "def cost_function_ls(params, data, log_transformed = True):\n",
    "    mu_max, Ks, Qn, N0 = params\n",
    "    y0 = [ N0, data['cells'][0] ]\n",
    "    num_cells_solved = solved_num_cells(y0, data['times'], mu_max, Ks, Qn)\n",
    "    #return (num_cells_solved - data['cells']) \n",
    "    if log_transformed is True:\n",
    "        #error  =  np.sum((np.log(num_cells_solved)/2.303 - np.log(data['cells'])/2.303)**2)\n",
    "        #error  =  np.log(num_cells_solved)/2.303 - np.log(data['cells'])/2.303\n",
    "        ## please do not manaully write sum of square errors, the least_square module does it for you.\n",
    "        \n",
    "        error  =  np.sum( (np.log(num_cells_solved)/2.303 - np.log(data['cells'])/2.303)**2 )\n",
    "    else:\n",
    "        #error  =  np.sum((num_cells_solved - data['cells'] )**2) # was a mistake\n",
    "        error  =  np.sum( (num_cells_solved - data['cells'])**2 )\n",
    "    return error\n",
    "\n"
   ]
  },
  {
   "cell_type": "code",
   "execution_count": 132,
   "id": "b12e6107-896d-440f-8073-590413380eb6",
   "metadata": {},
   "outputs": [
    {
     "data": {
      "text/plain": [
       "0.8095024146444206"
      ]
     },
     "execution_count": 132,
     "metadata": {},
     "output_type": "execute_result"
    }
   ],
   "source": [
    "cost_function_ls( [0.5, 20, 6.7e-10,10e2], data)"
   ]
  },
  {
   "cell_type": "code",
   "execution_count": 134,
   "id": "f572520c-a4c5-4f7d-8670-8e0de6b79bb8",
   "metadata": {},
   "outputs": [
    {
     "data": {
      "text/plain": [
       "0.5507837463192881"
      ]
     },
     "execution_count": 134,
     "metadata": {},
     "output_type": "execute_result"
    }
   ],
   "source": [
    "cost_function_ls( [mu_max_opt, Ks_opt, Qn_opt,N0_opt], data)"
   ]
  },
  {
   "cell_type": "markdown",
   "id": "466acd1e-4116-4854-9c23-065f880ea0f4",
   "metadata": {},
   "source": [
    "__You can also use solve_ivp to solve the ODEs__"
   ]
  },
  {
   "cell_type": "code",
   "execution_count": 136,
   "id": "823ca2ba-a668-4be6-b30e-68cefb73f97f",
   "metadata": {},
   "outputs": [
    {
     "data": {
      "image/png": "[encoded data removed]",
      "text/plain": [
       "<Figure size 640x480 with 1 Axes>"
      ]
     },
     "metadata": {},
     "output_type": "display_data"
    }
   ],
   "source": [
    "y0 = [  N0_opt, data['cells'][0] ]\n",
    "num_cells_solved = solved_num_cells(y0,t,mu_max_opt, Ks_opt, Qn_opt)\n",
    "\n",
    "plt.plot(t,num_cells_solved)\n",
    "plt.yscale('log')\n",
    "plt.plot(data['times'],data['cells'],'o')\n",
    "plt.legend(['Least square fit scipy','real data'])\n",
    "plt.xlabel('Time')\n",
    "plt.ylabel('cells')\n",
    "plt.show()\n"
   ]
  },
  {
   "cell_type": "markdown",
   "id": "d8d42b47-08e4-4a16-82e6-bad1206df891",
   "metadata": {},
   "source": [
    "### Using curvefit"
   ]
  },
  {
   "cell_type": "markdown",
   "id": "2f1f92ad-4ef5-4a12-ab48-84da2a0b22b7",
   "metadata": {},
   "source": [
    "Should not do this as this is highly unstable -- this method works fine for closed form solutions -- gets difficult for where we only have ODE which is to be solved numerically."
   ]
  },
  {
   "cell_type": "markdown",
   "id": "a582dc1c-3904-42d2-86a3-5ce5d2463b13",
   "metadata": {},
   "source": [
    "### Define a cost function and using tensorflow minimize the gradient."
   ]
  },
  {
   "cell_type": "code",
   "execution_count": 144,
   "id": "700b69dc-ccf5-4c37-a23d-236e481238d1",
   "metadata": {},
   "outputs": [
    {
     "ename": "ValueError",
     "evalue": "No gradients provided for any variable.",
     "output_type": "error",
     "traceback": [
      "\u001b[0;31m---------------------------------------------------------------------------\u001b[0m",
      "\u001b[0;31mValueError\u001b[0m                                Traceback (most recent call last)",
      "Cell \u001b[0;32mIn[144], line 33\u001b[0m\n\u001b[1;32m     31\u001b[0m     loss \u001b[38;5;241m=\u001b[39m cost_function_tf(params, cells, times, log_transformed\u001b[38;5;241m=\u001b[39m\u001b[38;5;28;01mTrue\u001b[39;00m)\n\u001b[1;32m     32\u001b[0m grads \u001b[38;5;241m=\u001b[39m tape\u001b[38;5;241m.\u001b[39mgradient(loss, [params])\n\u001b[0;32m---> 33\u001b[0m \u001b[43moptimizer\u001b[49m\u001b[38;5;241;43m.\u001b[39;49m\u001b[43mapply_gradients\u001b[49m\u001b[43m(\u001b[49m\u001b[38;5;28;43mzip\u001b[39;49m\u001b[43m(\u001b[49m\u001b[43mgrads\u001b[49m\u001b[43m,\u001b[49m\u001b[43m \u001b[49m\u001b[43m[\u001b[49m\u001b[43mparams\u001b[49m\u001b[43m]\u001b[49m\u001b[43m)\u001b[49m\u001b[43m)\u001b[49m\n\u001b[1;32m     34\u001b[0m \u001b[38;5;28;01mif\u001b[39;00m i \u001b[38;5;241m%\u001b[39m \u001b[38;5;241m100\u001b[39m \u001b[38;5;241m==\u001b[39m \u001b[38;5;241m0\u001b[39m:  \u001b[38;5;66;03m# Print every 100 iterations\u001b[39;00m\n\u001b[1;32m     35\u001b[0m     \u001b[38;5;28mprint\u001b[39m(\u001b[38;5;124mf\u001b[39m\u001b[38;5;124m\"\u001b[39m\u001b[38;5;124mIteration \u001b[39m\u001b[38;5;132;01m{\u001b[39;00mi\u001b[38;5;132;01m}\u001b[39;00m\u001b[38;5;124m: Loss = \u001b[39m\u001b[38;5;132;01m{\u001b[39;00mloss\u001b[38;5;241m.\u001b[39mnumpy()\u001b[38;5;132;01m}\u001b[39;00m\u001b[38;5;124m\"\u001b[39m)\n",
      "File \u001b[0;32m~/Downloads/pymc-ODE-inference/pymc-ode/lib/python3.11/site-packages/keras/src/optimizers/base_optimizer.py:282\u001b[0m, in \u001b[0;36mBaseOptimizer.apply_gradients\u001b[0;34m(self, grads_and_vars)\u001b[0m\n\u001b[1;32m    280\u001b[0m \u001b[38;5;28;01mdef\u001b[39;00m \u001b[38;5;21mapply_gradients\u001b[39m(\u001b[38;5;28mself\u001b[39m, grads_and_vars):\n\u001b[1;32m    281\u001b[0m     grads, trainable_variables \u001b[38;5;241m=\u001b[39m \u001b[38;5;28mzip\u001b[39m(\u001b[38;5;241m*\u001b[39mgrads_and_vars)\n\u001b[0;32m--> 282\u001b[0m     \u001b[38;5;28;43mself\u001b[39;49m\u001b[38;5;241;43m.\u001b[39;49m\u001b[43mapply\u001b[49m\u001b[43m(\u001b[49m\u001b[43mgrads\u001b[49m\u001b[43m,\u001b[49m\u001b[43m \u001b[49m\u001b[43mtrainable_variables\u001b[49m\u001b[43m)\u001b[49m\n\u001b[1;32m    283\u001b[0m     \u001b[38;5;66;03m# Return iterations for compat with tf.keras.\u001b[39;00m\n\u001b[1;32m    284\u001b[0m     \u001b[38;5;28;01mreturn\u001b[39;00m \u001b[38;5;28mself\u001b[39m\u001b[38;5;241m.\u001b[39miterations\n",
      "File \u001b[0;32m~/Downloads/pymc-ODE-inference/pymc-ode/lib/python3.11/site-packages/keras/src/optimizers/base_optimizer.py:335\u001b[0m, in \u001b[0;36mBaseOptimizer.apply\u001b[0;34m(self, grads, trainable_variables)\u001b[0m\n\u001b[1;32m    328\u001b[0m grads, trainable_variables \u001b[38;5;241m=\u001b[39m (\n\u001b[1;32m    329\u001b[0m     \u001b[38;5;28mself\u001b[39m\u001b[38;5;241m.\u001b[39m_overwrite_variables_directly_with_gradients(\n\u001b[1;32m    330\u001b[0m         grads, trainable_variables\n\u001b[1;32m    331\u001b[0m     )\n\u001b[1;32m    332\u001b[0m )\n\u001b[1;32m    334\u001b[0m \u001b[38;5;66;03m# Filter empty gradients.\u001b[39;00m\n\u001b[0;32m--> 335\u001b[0m grads, trainable_variables \u001b[38;5;241m=\u001b[39m \u001b[38;5;28;43mself\u001b[39;49m\u001b[38;5;241;43m.\u001b[39;49m\u001b[43m_filter_empty_gradients\u001b[49m\u001b[43m(\u001b[49m\n\u001b[1;32m    336\u001b[0m \u001b[43m    \u001b[49m\u001b[43mgrads\u001b[49m\u001b[43m,\u001b[49m\u001b[43m \u001b[49m\u001b[43mtrainable_variables\u001b[49m\n\u001b[1;32m    337\u001b[0m \u001b[43m\u001b[49m\u001b[43m)\u001b[49m\n\u001b[1;32m    338\u001b[0m \u001b[38;5;28;01mif\u001b[39;00m \u001b[38;5;28mlen\u001b[39m(\u001b[38;5;28mlist\u001b[39m(grads)) \u001b[38;5;241m==\u001b[39m \u001b[38;5;241m0\u001b[39m:\n\u001b[1;32m    339\u001b[0m     \u001b[38;5;28;01mreturn\u001b[39;00m\n",
      "File \u001b[0;32m~/Downloads/pymc-ODE-inference/pymc-ode/lib/python3.11/site-packages/keras/src/optimizers/base_optimizer.py:662\u001b[0m, in \u001b[0;36mBaseOptimizer._filter_empty_gradients\u001b[0;34m(self, grads, vars)\u001b[0m\n\u001b[1;32m    659\u001b[0m         missing_grad_vars\u001b[38;5;241m.\u001b[39mappend(v\u001b[38;5;241m.\u001b[39mname)\n\u001b[1;32m    661\u001b[0m \u001b[38;5;28;01mif\u001b[39;00m \u001b[38;5;129;01mnot\u001b[39;00m filtered_grads:\n\u001b[0;32m--> 662\u001b[0m     \u001b[38;5;28;01mraise\u001b[39;00m \u001b[38;5;167;01mValueError\u001b[39;00m(\u001b[38;5;124m\"\u001b[39m\u001b[38;5;124mNo gradients provided for any variable.\u001b[39m\u001b[38;5;124m\"\u001b[39m)\n\u001b[1;32m    663\u001b[0m \u001b[38;5;28;01mif\u001b[39;00m missing_grad_vars:\n\u001b[1;32m    664\u001b[0m     warnings\u001b[38;5;241m.\u001b[39mwarn(\n\u001b[1;32m    665\u001b[0m         \u001b[38;5;124m\"\u001b[39m\u001b[38;5;124mGradients do not exist for variables \u001b[39m\u001b[38;5;124m\"\u001b[39m\n\u001b[1;32m    666\u001b[0m         \u001b[38;5;124mf\u001b[39m\u001b[38;5;124m\"\u001b[39m\u001b[38;5;132;01m{\u001b[39;00m\u001b[38;5;28mlist\u001b[39m(\u001b[38;5;28mreversed\u001b[39m(missing_grad_vars))\u001b[38;5;132;01m}\u001b[39;00m\u001b[38;5;124m when minimizing the loss.\u001b[39m\u001b[38;5;124m\"\u001b[39m\n\u001b[1;32m    667\u001b[0m         \u001b[38;5;124m\"\u001b[39m\u001b[38;5;124m If using `model.compile()`, did you forget to provide a \u001b[39m\u001b[38;5;124m\"\u001b[39m\n\u001b[1;32m    668\u001b[0m         \u001b[38;5;124m\"\u001b[39m\u001b[38;5;124m`loss` argument?\u001b[39m\u001b[38;5;124m\"\u001b[39m\n\u001b[1;32m    669\u001b[0m     )\n",
      "\u001b[0;31mValueError\u001b[0m: No gradients provided for any variable."
     ]
    }
   ],
   "source": [
    "import tensorflow as tf\n",
    "\n",
    "\n",
    "# Define the cost function for TensorFlow\n",
    "def cost_function_tf(params, cells, times, log_transformed=True):\n",
    "    mu_max, Ks, Qn, N0 = params\n",
    "    y0 = [N0, cells[0]]\n",
    "    num_cells_solved = solved_num_cells(y0, times, mu_max, Ks, Qn)\n",
    "    if log_transformed:\n",
    "        error = tf.reduce_sum((tf.math.log(num_cells_solved) / 2.303 - tf.math.log(cells) / 2.303) ** 2)\n",
    "    else:\n",
    "        error = tf.reduce_sum((num_cells_solved - cells) ** 2)\n",
    "    return error\n",
    "\n",
    "# Initial guess for the parameters\n",
    "initial_guess = np.array([0.5, 20, 6.7e-10, 10e2], dtype=np.float64)\n",
    "\n",
    "# Convert initial guess to TensorFlow variable\n",
    "params = tf.Variable(initial_guess)\n",
    "\n",
    "# Convert data to TensorFlow tensors\n",
    "cells = tf.constant(data['cells'], dtype=tf.float64)\n",
    "times = tf.constant(data['times'], dtype=tf.float64)\n",
    "\n",
    "# Set up the optimizer\n",
    "optimizer = tf.optimizers.Adam(learning_rate=0.01)\n",
    "\n",
    "# Training loop\n",
    "for i in range(1000):  # Number of iterations\n",
    "    with tf.GradientTape() as tape:\n",
    "        loss = cost_function_tf(params, cells, times, log_transformed=True)\n",
    "    grads = tape.gradient(loss, [params])\n",
    "    optimizer.apply_gradients(zip(grads, [params]))\n",
    "    if i % 100 == 0:  # Print every 100 iterations\n",
    "        print(f\"Iteration {i}: Loss = {loss.numpy()}\")\n",
    "\n",
    "# Optimized parameters\n",
    "mu_max_opt, Ks_opt, Qn_opt, N0_opt = params.numpy()\n",
    "print(f\"Optimized parameters: mu_max={mu_max_opt}, Ks={Ks_opt}, Qn={Qn_opt}, N0={N0_opt}\")"
   ]
  },
  {
   "cell_type": "code",
   "execution_count": null,
   "id": "34133fa2-bf39-44ed-bc8d-917eb5b5b430",
   "metadata": {},
   "outputs": [],
   "source": []
  },
  {
   "cell_type": "markdown",
   "id": "e25d694b-da93-4414-984d-ac3e8d49f5d7",
   "metadata": {},
   "source": [
    "Did not work -- will debug later. I will write it in my own way now."
   ]
  },
  {
   "cell_type": "code",
   "execution_count": 147,
   "id": "65863b14-9041-4c3e-8a5a-b8e8abc5a433",
   "metadata": {},
   "outputs": [],
   "source": [
    "mu_max_guess =  0.5 \n",
    "Ks_guess = 20\n",
    "Qn_guess = 6.7e-10\n",
    "N0_guess = 10e2\n",
    "\n",
    "# Define your optimization variables\n",
    "mu_max =  tf.Variable(mu_max_guess, np.float64)\n",
    "Ks =  tf.Variable(Ks_guess, np.float64)\n",
    "Qn =  tf.Variable(Qn_guess, np.float64)\n",
    "N0 =  tf.Variable(N0_guess, np.float64)\n",
    "\n",
    "# Convert data to TensorFlow tensors\n",
    "cells = tf.constant(data['cells'], dtype=tf.float64)\n",
    "times = tf.constant(data['times'], dtype=tf.float64)\n",
    "\n",
    "\n"
   ]
  },
  {
   "cell_type": "code",
   "execution_count": 151,
   "id": "9cbd2585-5dd5-4194-ae18-8d920fbf6303",
   "metadata": {},
   "outputs": [],
   "source": [
    "# Define the cost function for TensorFlow\n",
    "def cost_function_tf(mu_max, Ks, Qn, N0,cells,times ):\n",
    "    y0 = [N0, cells[0]]\n",
    "    num_cells_solved = solved_num_cells(y0, times, mu_max, Ks, Qn)\n",
    "    if log_transformed:\n",
    "        error = tf.reduce_sum((tf.math.log(num_cells_solved) / 2.303 - tf.math.log(cells) / 2.303) ** 2)\n",
    "    else:\n",
    "        error = tf.reduce_sum((num_cells_solved - cells) ** 2)\n",
    "    return error"
   ]
  },
  {
   "cell_type": "code",
   "execution_count": null,
   "id": "d0dc1668-f82f-4eb6-835e-4cbd188381c4",
   "metadata": {},
   "outputs": [],
   "source": []
  },
  {
   "cell_type": "code",
   "execution_count": null,
   "id": "ac86fb0a-2b82-476c-9ce3-fdd5b30e88ff",
   "metadata": {},
   "outputs": [],
   "source": []
  },
  {
   "cell_type": "code",
   "execution_count": 154,
   "id": "708b4743-b561-4be3-8cc3-e1a844527e9b",
   "metadata": {},
   "outputs": [
    {
     "data": {
      "text/plain": [
       "<tf.Tensor: shape=(10,), dtype=float64, numpy=\n",
       "array([  8677.14466756,  26920.85598952,  63176.8624745 , 249712.05465716,\n",
       "       442178.36958117, 802923.56365537, 875907.62155877, 856617.31079041,\n",
       "       885705.60172384, 912408.71592194])>"
      ]
     },
     "execution_count": 154,
     "metadata": {},
     "output_type": "execute_result"
    }
   ],
   "source": [
    "cells "
   ]
  },
  {
   "cell_type": "code",
   "execution_count": null,
   "id": "7f71ab88-2ae2-416f-98a0-f5f159203ffd",
   "metadata": {},
   "outputs": [],
   "source": []
  },
  {
   "cell_type": "code",
   "execution_count": null,
   "id": "3b53703d-7669-4b0b-8813-8ed3d3f3ef37",
   "metadata": {},
   "outputs": [],
   "source": []
  },
  {
   "cell_type": "code",
   "execution_count": null,
   "id": "bd373d72-ffa3-44ca-8836-ecedb5892803",
   "metadata": {},
   "outputs": [],
   "source": []
  },
  {
   "cell_type": "code",
   "execution_count": null,
   "id": "7d12e139-da34-4edd-a515-58f89db1acec",
   "metadata": {},
   "outputs": [],
   "source": [
    "cost_function_tf(mu_max, Ks, Qn, N0,cells,times)"
   ]
  }
 ],
 "metadata": {
  "kernelspec": {
   "display_name": "Python 3 (ipykernel)",
   "language": "python",
   "name": "python3"
  },
  "language_info": {
   "codemirror_mode": {
    "name": "ipython",
    "version": 3
   },
   "file_extension": ".py",
   "mimetype": "text/x-python",
   "name": "python",
   "nbconvert_exporter": "python",
   "pygments_lexer": "ipython3",
   "version": "3.11.4"
  }
 },
 "nbformat": 4,
 "nbformat_minor": 5
}
