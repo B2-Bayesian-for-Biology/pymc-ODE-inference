{
 "cells": [
  {
   "cell_type": "markdown",
   "id": "9df0d3d2-48c3-4463-baba-569ad751f82a",
   "metadata": {},
   "source": [
    "## Best fitting parameters.\n",
    "In this notebook we would use the ODE based model to find out the best fitting parameters, using different standard and non-standard packages. Please feel free to use this an an example template to get started with your own workflow. Good luck."
   ]
  },
  {
   "cell_type": "markdown",
   "id": "bbbc7a46-f920-49d4-8666-898cab337c16",
   "metadata": {},
   "source": [
    "First we are going to load the data."
   ]
  },
  {
   "cell_type": "code",
   "execution_count": 1,
   "id": "7ffb7508-e92e-48ac-b1b2-e6d8e440e37a",
   "metadata": {},
   "outputs": [],
   "source": [
    "import csv\n",
    "import pandas as pd"
   ]
  },
  {
   "cell_type": "code",
   "execution_count": 2,
   "id": "be58dd7d-20c4-41a0-8829-0888e50b8707",
   "metadata": {},
   "outputs": [],
   "source": [
    "data = pd.read_csv(\"./../data/in_silico_growth_curve.csv\")"
   ]
  },
  {
   "cell_type": "markdown",
   "id": "d1a31632-fc6d-496d-a0cd-8f4cd2105cfc",
   "metadata": {},
   "source": [
    "Let's see what the datafile contents are."
   ]
  },
  {
   "cell_type": "code",
   "execution_count": 3,
   "id": "ea7236c0-b5b0-47c4-9600-6e11d00da8a9",
   "metadata": {},
   "outputs": [
    {
     "data": {
      "text/html": [
       "<div>\n",
       "<style scoped>\n",
       "    .dataframe tbody tr th:only-of-type {\n",
       "        vertical-align: middle;\n",
       "    }\n",
       "\n",
       "    .dataframe tbody tr th {\n",
       "        vertical-align: top;\n",
       "    }\n",
       "\n",
       "    .dataframe thead th {\n",
       "        text-align: right;\n",
       "    }\n",
       "</style>\n",
       "<table border=\"1\" class=\"dataframe\">\n",
       "  <thead>\n",
       "    <tr style=\"text-align: right;\">\n",
       "      <th></th>\n",
       "      <th>times</th>\n",
       "      <th>cells</th>\n",
       "    </tr>\n",
       "  </thead>\n",
       "  <tbody>\n",
       "    <tr>\n",
       "      <th>0</th>\n",
       "      <td>0.000000</td>\n",
       "      <td>8677.144668</td>\n",
       "    </tr>\n",
       "    <tr>\n",
       "      <th>1</th>\n",
       "      <td>1.500000</td>\n",
       "      <td>26920.855990</td>\n",
       "    </tr>\n",
       "    <tr>\n",
       "      <th>2</th>\n",
       "      <td>3.000000</td>\n",
       "      <td>63176.862474</td>\n",
       "    </tr>\n",
       "    <tr>\n",
       "      <th>3</th>\n",
       "      <td>4.500000</td>\n",
       "      <td>249712.054657</td>\n",
       "    </tr>\n",
       "    <tr>\n",
       "      <th>4</th>\n",
       "      <td>6.000000</td>\n",
       "      <td>442178.369581</td>\n",
       "    </tr>\n",
       "    <tr>\n",
       "      <th>5</th>\n",
       "      <td>7.500001</td>\n",
       "      <td>802923.563655</td>\n",
       "    </tr>\n",
       "    <tr>\n",
       "      <th>6</th>\n",
       "      <td>9.000001</td>\n",
       "      <td>875907.621559</td>\n",
       "    </tr>\n",
       "    <tr>\n",
       "      <th>7</th>\n",
       "      <td>10.500001</td>\n",
       "      <td>856617.310790</td>\n",
       "    </tr>\n",
       "    <tr>\n",
       "      <th>8</th>\n",
       "      <td>12.000001</td>\n",
       "      <td>885705.601724</td>\n",
       "    </tr>\n",
       "    <tr>\n",
       "      <th>9</th>\n",
       "      <td>13.500001</td>\n",
       "      <td>912408.715922</td>\n",
       "    </tr>\n",
       "  </tbody>\n",
       "</table>\n",
       "</div>"
      ],
      "text/plain": [
       "       times          cells\n",
       "0   0.000000    8677.144668\n",
       "1   1.500000   26920.855990\n",
       "2   3.000000   63176.862474\n",
       "3   4.500000  249712.054657\n",
       "4   6.000000  442178.369581\n",
       "5   7.500001  802923.563655\n",
       "6   9.000001  875907.621559\n",
       "7  10.500001  856617.310790\n",
       "8  12.000001  885705.601724\n",
       "9  13.500001  912408.715922"
      ]
     },
     "execution_count": 3,
     "metadata": {},
     "output_type": "execute_result"
    }
   ],
   "source": [
    "data"
   ]
  },
  {
   "cell_type": "markdown",
   "id": "98397e9a-882b-4d33-9f76-794354c0fae5",
   "metadata": {},
   "source": [
    "It's a very small dataset with just 10 time points showing the number of cells over time. With these short time series, both having a mechanistic model to fit it and having a Bayesian framework to do so helps us to make better sense of the science behind the process. We can visualize the data as."
   ]
  },
  {
   "cell_type": "code",
   "execution_count": 4,
   "id": "dc9d2ea2-efd0-4837-8012-135c2d22042f",
   "metadata": {},
   "outputs": [
    {
     "data": {
      "text/plain": [
       "Text(0, 0.5, 'cells')"
      ]
     },
     "execution_count": 4,
     "metadata": {},
     "output_type": "execute_result"
    },
    {
     "data": {
      "image/png": "[encoded data removed]",
      "text/plain": [
       "<Figure size 640x480 with 1 Axes>"
      ]
     },
     "metadata": {},
     "output_type": "display_data"
    }
   ],
   "source": [
    "import matplotlib.pyplot as plt\n",
    "plt.plot(data['times'],data['cells'],'o',color ='orange')\n",
    "plt.xlabel(data.columns[0])\n",
    "plt.ylabel(data.columns[1])\n"
   ]
  },
  {
   "cell_type": "markdown",
   "id": "0c9c89a6-8ae1-438a-a93a-5e7c5b40dfd8",
   "metadata": {},
   "source": [
    "However that can be complicated, let's start with the most simple way of fitting a nonlinear ODE model to the data."
   ]
  },
  {
   "cell_type": "markdown",
   "id": "eefe9fd2-8dde-492e-a462-5a46056366bc",
   "metadata": {},
   "source": [
    "### Use of Biological Mechanistic knowledge.\n",
    "This data is a growth data of the cells where they consume nutrients and we can use the blahblah model"
   ]
  },
  {
   "cell_type": "markdown",
   "id": "c099ab67-46d7-43db-8b81-338c89e80798",
   "metadata": {},
   "source": [
    "$$\n",
    "\\frac{dN}{dt} = -Q_n \\frac{\\mu_{max}N}{N+K_s}(P\\times10^6)\n",
    "$$\n",
    "\n",
    "$$\n",
    "\\frac{dP}{dt} = \\frac{\\mu_{max}N}{N+K_s} P\n",
    "$$"
   ]
  },
  {
   "cell_type": "markdown",
   "id": "36f85bbe-e3af-4106-a625-d67e45a917a0",
   "metadata": {},
   "source": [
    "### In this dataset the variable 'N' (nutrients) is latent (unobserved)"
   ]
  },
  {
   "cell_type": "code",
   "execution_count": 5,
   "id": "c6e014a7-26b8-4af2-99af-ce9f99affd6e",
   "metadata": {},
   "outputs": [],
   "source": [
    "import numpy as np\n",
    "from scipy.integrate import odeint\n",
    "t = data['times']\n",
    "\n",
    "def cells_grow(y,t,mu_max,Ks,Qn):\n",
    "    N, P = y\n",
    "    dydt = [0,0]\n",
    "    dydt[0] = -Qn*(mu_max*N)/(N+Ks) *(P*1e6)\n",
    "    dydt[1] = P*(mu_max*N)/(N+Ks)\n",
    "\n",
    "    return dydt\n",
    "\n",
    "def solved_num_cells(y0,t,mu_max,Ks,Qn):\n",
    "    sol = odeint(cells_grow, y0, t, args=(mu_max,Ks,Qn))\n",
    "    return sol[:,1]"
   ]
  },
  {
   "cell_type": "code",
   "execution_count": 6,
   "id": "e7a0df1b-0cfd-4b6a-81c1-002ce804874d",
   "metadata": {},
   "outputs": [
    {
     "data": {
      "image/png": "[encoded data removed]",
      "text/plain": [
       "<Figure size 640x480 with 1 Axes>"
      ]
     },
     "metadata": {},
     "output_type": "display_data"
    }
   ],
   "source": [
    "mu_max = 0.6\n",
    "Ks = 0.09\n",
    "Qn = 6.7e-10\n",
    "\n",
    "y0 = [ 6e2, data['cells'][0] ]\n",
    "num_cells_solved = solved_num_cells(y0,t,mu_max,Ks,Qn)\n",
    "\n",
    "plt.plot(data['times'],num_cells_solved)\n",
    "plt.plot(data['times'],data['cells'],'o')\n",
    "plt.legend(['Simulation','real data'])\n",
    "plt.yscale('log')\n",
    "plt.xlabel('Time')\n",
    "plt.ylabel('cells')\n",
    "plt.show()\n"
   ]
  },
  {
   "cell_type": "code",
   "execution_count": 8,
   "id": "1e33cb68-be54-4387-b28c-fd134d08aee3",
   "metadata": {},
   "outputs": [
    {
     "name": "stdout",
     "output_type": "stream",
     "text": [
      "Gradients not computed at step 0.\n",
      "Optimized parameters: mu_max=0.6, Ks=0.09, Qn=1.125e-09, N0=1000.0\n",
      "The loss is 0.12021379121030083\n"
     ]
    }
   ],
   "source": [
    "import numpy as np\n",
    "import tensorflow as tf\n",
    "from scipy.integrate import odeint\n",
    "\n",
    "# Define the model function\n",
    "def cells_grow(y, t, mu_max, Ks, Qn):\n",
    "    N, P = y\n",
    "    dydt = [0, 0]\n",
    "    dydt[0] = -Qn * (mu_max * N) / (N + Ks) * (P * 1e6)\n",
    "    dydt[1] = P * (mu_max * N) / (N + Ks)\n",
    "    return dydt\n",
    "\n",
    "# Define the solver function\n",
    "def solved_num_cells(y0, t, mu_max, Ks, Qn):\n",
    "    sol = odeint(cells_grow, y0, t, args=(mu_max, Ks, Qn))\n",
    "    return sol[:, 1]\n",
    "\n",
    "# Sample data for demonstration (replace with your actual data)\n",
    "#data = {\n",
    "#    'cells': np.array([600, 700, 800, 900, 1000, 1100, 1200, 1300, 1400, 1500]),\n",
    "#    'times': np.linspace(0, 15, 10)  # times corresponding to the cell counts\n",
    "#}\n",
    "\n",
    "# Initial guesses\n",
    "mu_max_guess = 0.6\n",
    "Ks_guess = 0.09\n",
    "Qn_guess = 1.125e-09\n",
    "N0_guess = 1000\n",
    "\n",
    "# Define your optimization variables\n",
    "mu_max = tf.Variable(mu_max_guess, dtype=tf.float64)\n",
    "Ks = tf.Variable(Ks_guess, dtype=tf.float64)\n",
    "Qn = tf.Variable(Qn_guess, dtype=tf.float64)\n",
    "N0 = tf.Variable(N0_guess, dtype=tf.float64)\n",
    "\n",
    "# Define the cost function for TensorFlow\n",
    "def cost_function_tf(mu_max, Ks, Qn, N0):\n",
    "    y0 = [N0, data['cells'][0]]\n",
    "    num_cells_solved = solved_num_cells(y0, data['times'], mu_max.numpy(), Ks.numpy(), Qn.numpy())\n",
    "    error = np.sum((np.log(num_cells_solved) / 2.303 - np.log(data['cells']) / 2.303) ** 2)\n",
    "    #error = np.sqrt(np.sum((num_cells_solved - data['cells']) ** 2))\n",
    "    \n",
    "    return tf.convert_to_tensor(error, dtype=tf.float64)\n",
    "\n",
    "# Set up the optimizer\n",
    "optimizer = tf.optimizers.Adam(learning_rate=1e-10)\n",
    "\n",
    "# Optimization loop\n",
    "for step in range(1000):\n",
    "    with tf.GradientTape() as tape:\n",
    "        tape.watch([mu_max, Ks, Qn, N0])\n",
    "        loss = cost_function_tf(mu_max, Ks, Qn, N0)\n",
    "    grads = tape.gradient(loss, [mu_max, Ks, Qn, N0])\n",
    "    \n",
    "    # Check if gradients are computed\n",
    "    if any(grad is None for grad in grads):\n",
    "        print(f\"Gradients not computed at step {step}.\")\n",
    "        break\n",
    "\n",
    "    optimizer.apply_gradients(zip(grads, [mu_max, Ks, Qn, N0]))\n",
    "    \n",
    "    if step % 100 == 0:\n",
    "        print(f\"Step {step}, Loss: {loss.numpy()}, mu_max: {mu_max.numpy()}, Ks: {Ks.numpy()}, Qn: {Qn.numpy()}, N0: {N0.numpy()}\")\n",
    "\n",
    "# Optimized parameters\n",
    "mu_max_opt = mu_max.numpy()\n",
    "Ks_opt = Ks.numpy()\n",
    "Qn_opt = Qn.numpy()\n",
    "N0_opt = N0.numpy()\n",
    "print(f\"Optimized parameters: mu_max={mu_max_opt}, Ks={Ks_opt}, Qn={Qn_opt}, N0={N0_opt}\")\n",
    "\n",
    "with tf.GradientTape() as tape:\n",
    "    tape.watch([mu_max, Ks, Qn, N0])\n",
    "    loss = cost_function_tf(mu_max, Ks, Qn, N0)\n",
    "    grads = tape.gradient(loss, [mu_max, Ks, Qn, N0])\n",
    "    print(f\"The loss is {loss}\")"
   ]
  },
  {
   "cell_type": "code",
   "execution_count": null,
   "id": "a0b9efb5-ea54-4e1b-9f6a-b43b39e653ac",
   "metadata": {},
   "outputs": [],
   "source": []
  },
  {
   "cell_type": "code",
   "execution_count": null,
   "id": "2582f7b9-6967-4614-b370-6572001786f9",
   "metadata": {},
   "outputs": [],
   "source": [
    "with tf.GradientTape() as tape:\n",
    "    tape.watch([mu_max, Ks, Qn, N0])\n",
    "    grads = tape.gradient(cost_function_tf(mu_max, Ks, Qn, N0), [mu_max, Ks, Qn, N0])\n",
    "    print(f\"The loss is {cost_function_tf(mu_max, Ks, Qn, N0)}\")\n",
    "    print(f\"The grads is {grads}\")"
   ]
  },
  {
   "cell_type": "code",
   "execution_count": null,
   "id": "997cb88e-9260-4df7-8f8b-5620dbd5d4e7",
   "metadata": {},
   "outputs": [],
   "source": [
    "N0"
   ]
  },
  {
   "cell_type": "code",
   "execution_count": null,
   "id": "eeb9f5b9-cd7e-4c94-a503-338b97df57f4",
   "metadata": {},
   "outputs": [],
   "source": [
    "import numpy as np\n",
    "import tensorflow as tf\n",
    "!pip install tensorflow_probability\n",
    "import tensorflow_probability as tfp\n",
    "\n",
    "# Define the model function\n",
    "def cells_grow(t, y, params):\n",
    "    mu_max, Ks, Qn = params\n",
    "    N, P = tf.unstack(y)\n",
    "    dNdt = -Qn * (mu_max * N) / (N + Ks) * (P * 1e6)\n",
    "    dPdt = P * (mu_max * N) / (N + Ks)\n",
    "    return tf.stack([dNdt, dPdt])\n",
    "\n",
    "# Define the solver function\n",
    "def solved_num_cells(y0, t, mu_max, Ks, Qn):\n",
    "    solver = tfp.math.ode.DormandPrince().solve\n",
    "    solution = solver(\n",
    "        cells_grow,\n",
    "        initial_time=t[0],\n",
    "        initial_state=y0,\n",
    "        solution_times=t,\n",
    "        constants=[mu_max, Ks, Qn]\n",
    "    )\n",
    "    return solution.states[:, 1]\n",
    "\n",
    "# Sample data for demonstration (replace with your actual data)\n",
    "data = {\n",
    "    'cells': np.array([600, 700, 800, 900, 1000, 1100, 1200, 1300, 1400, 1500]),\n",
    "    'times': np.linspace(0, 15, 10)  # times corresponding to the cell counts\n",
    "}\n",
    "\n",
    "# Initial guesses\n",
    "mu_max_guess = 0.5\n",
    "Ks_guess = 20\n",
    "Qn_guess = 6.7e-10\n",
    "N0_guess = 10e2\n",
    "\n",
    "# Define your optimization variables\n",
    "mu_max = tf.Variable(mu_max_guess, dtype=tf.float64)\n",
    "Ks = tf.Variable(Ks_guess, dtype=tf.float64)\n",
    "Qn = tf.Variable(Qn_guess, dtype=tf.float64)\n",
    "N0 = tf.Variable(N0_guess, dtype=tf.float64)\n",
    "\n",
    "# Define the cost function for TensorFlow\n",
    "def cost_function_tf(mu_max, Ks, Qn, N0):\n",
    "    y0 = tf.stack([N0, tf.cast(data['cells'][0], tf.float64)])\n",
    "    num_cells_solved = solved_num_cells(y0, data['times'], mu_max, Ks, Qn)\n",
    "    error = tf.reduce_sum((tf.math.log(num_cells_solved) / 2.303 - tf.math.log(data['cells']) / 2.303) ** 2)\n",
    "    return error\n",
    "\n",
    "# Set up the optimizer\n",
    "optimizer = tf.optimizers.Adam(learning_rate=0.01)\n",
    "\n",
    "# Optimization loop\n",
    "for step in range(1000):\n",
    "    with tf.GradientTape() as tape:\n",
    "        tape.watch([mu_max, Ks, Qn, N0])\n",
    "        loss = cost_function_tf(mu_max, Ks, Qn, N0)\n",
    "    grads = tape.gradient(loss, [mu_max, Ks, Qn, N0])\n",
    "    \n",
    "    # Check if gradients are computed\n",
    "    if any(grad is None for grad in grads):\n",
    "        print(f\"Gradients not computed at step {step}.\")\n",
    "        break\n",
    "\n",
    "    optimizer.apply_gradients(zip(grads, [mu_max, Ks, Qn, N0]))\n",
    "    \n",
    "    if step % 100 == 0:\n",
    "        print(f\"Step {step}, Loss: {loss.numpy()}, mu_max: {mu_max.numpy()}, Ks: {Ks.numpy()}, Qn: {Qn.numpy()}, N0: {N0.numpy()}\")\n",
    "\n",
    "# Optimized parameters\n",
    "mu_max_opt = mu_max.numpy()\n",
    "Ks_opt = Ks.numpy()\n",
    "Qn_opt = Qn.numpy()\n",
    "N0_opt = N0.numpy()\n",
    "print(f\"Optimized parameters: mu_max={mu_max_opt}, Ks={Ks_opt}, Qn={Qn_opt}, N0={N0_opt}\")\n"
   ]
  },
  {
   "cell_type": "code",
   "execution_count": null,
   "id": "58fe9cea-1d8a-4bd8-9f69-414476796b14",
   "metadata": {},
   "outputs": [],
   "source": []
  },
  {
   "cell_type": "code",
   "execution_count": null,
   "id": "b3af0157-b379-4210-b1c2-4a1858772267",
   "metadata": {},
   "outputs": [],
   "source": []
  }
 ],
 "metadata": {
  "kernelspec": {
   "display_name": "Python 3 (ipykernel)",
   "language": "python",
   "name": "python3"
  },
  "language_info": {
   "codemirror_mode": {
    "name": "ipython",
    "version": 3
   },
   "file_extension": ".py",
   "mimetype": "text/x-python",
   "name": "python",
   "nbconvert_exporter": "python",
   "pygments_lexer": "ipython3",
   "version": "3.11.4"
  }
 },
 "nbformat": 4,
 "nbformat_minor": 5
}
