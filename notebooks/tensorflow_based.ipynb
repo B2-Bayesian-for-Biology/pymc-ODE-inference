{
 "cells": [
  {
   "cell_type": "markdown",
   "id": "9df0d3d2-48c3-4463-baba-569ad751f82a",
   "metadata": {},
   "source": [
    "## Best fitting parameters.\n",
    "In this notebook we would use the ODE based model to find out the best fitting parameters, using different standard and non-standard packages. Please feel free to use this an an example template to get started with your own workflow. Good luck."
   ]
  },
  {
   "cell_type": "markdown",
   "id": "bbbc7a46-f920-49d4-8666-898cab337c16",
   "metadata": {},
   "source": [
    "First we are going to load the data."
   ]
  },
  {
   "cell_type": "code",
   "execution_count": 1,
   "id": "7ffb7508-e92e-48ac-b1b2-e6d8e440e37a",
   "metadata": {},
   "outputs": [],
   "source": [
    "import csv\n",
    "import pandas as pd"
   ]
  },
  {
   "cell_type": "code",
   "execution_count": 2,
   "id": "be58dd7d-20c4-41a0-8829-0888e50b8707",
   "metadata": {},
   "outputs": [],
   "source": [
    "data = pd.read_csv(\"./../data/in_silico_growth_curve.csv\")"
   ]
  },
  {
   "cell_type": "markdown",
   "id": "d1a31632-fc6d-496d-a0cd-8f4cd2105cfc",
   "metadata": {},
   "source": [
    "Let's see what the datafile contents are."
   ]
  },
  {
   "cell_type": "code",
   "execution_count": 3,
   "id": "ea7236c0-b5b0-47c4-9600-6e11d00da8a9",
   "metadata": {},
   "outputs": [
    {
     "data": {
      "text/html": [
       "<div>\n",
       "<style scoped>\n",
       "    .dataframe tbody tr th:only-of-type {\n",
       "        vertical-align: middle;\n",
       "    }\n",
       "\n",
       "    .dataframe tbody tr th {\n",
       "        vertical-align: top;\n",
       "    }\n",
       "\n",
       "    .dataframe thead th {\n",
       "        text-align: right;\n",
       "    }\n",
       "</style>\n",
       "<table border=\"1\" class=\"dataframe\">\n",
       "  <thead>\n",
       "    <tr style=\"text-align: right;\">\n",
       "      <th></th>\n",
       "      <th>times</th>\n",
       "      <th>cells</th>\n",
       "    </tr>\n",
       "  </thead>\n",
       "  <tbody>\n",
       "    <tr>\n",
       "      <th>0</th>\n",
       "      <td>0.000000</td>\n",
       "      <td>8677.144668</td>\n",
       "    </tr>\n",
       "    <tr>\n",
       "      <th>1</th>\n",
       "      <td>1.500000</td>\n",
       "      <td>26920.855990</td>\n",
       "    </tr>\n",
       "    <tr>\n",
       "      <th>2</th>\n",
       "      <td>3.000000</td>\n",
       "      <td>63176.862474</td>\n",
       "    </tr>\n",
       "    <tr>\n",
       "      <th>3</th>\n",
       "      <td>4.500000</td>\n",
       "      <td>249712.054657</td>\n",
       "    </tr>\n",
       "    <tr>\n",
       "      <th>4</th>\n",
       "      <td>6.000000</td>\n",
       "      <td>442178.369581</td>\n",
       "    </tr>\n",
       "    <tr>\n",
       "      <th>5</th>\n",
       "      <td>7.500001</td>\n",
       "      <td>802923.563655</td>\n",
       "    </tr>\n",
       "    <tr>\n",
       "      <th>6</th>\n",
       "      <td>9.000001</td>\n",
       "      <td>875907.621559</td>\n",
       "    </tr>\n",
       "    <tr>\n",
       "      <th>7</th>\n",
       "      <td>10.500001</td>\n",
       "      <td>856617.310790</td>\n",
       "    </tr>\n",
       "    <tr>\n",
       "      <th>8</th>\n",
       "      <td>12.000001</td>\n",
       "      <td>885705.601724</td>\n",
       "    </tr>\n",
       "    <tr>\n",
       "      <th>9</th>\n",
       "      <td>13.500001</td>\n",
       "      <td>912408.715922</td>\n",
       "    </tr>\n",
       "  </tbody>\n",
       "</table>\n",
       "</div>"
      ],
      "text/plain": [
       "       times          cells\n",
       "0   0.000000    8677.144668\n",
       "1   1.500000   26920.855990\n",
       "2   3.000000   63176.862474\n",
       "3   4.500000  249712.054657\n",
       "4   6.000000  442178.369581\n",
       "5   7.500001  802923.563655\n",
       "6   9.000001  875907.621559\n",
       "7  10.500001  856617.310790\n",
       "8  12.000001  885705.601724\n",
       "9  13.500001  912408.715922"
      ]
     },
     "execution_count": 3,
     "metadata": {},
     "output_type": "execute_result"
    }
   ],
   "source": [
    "data"
   ]
  },
  {
   "cell_type": "markdown",
   "id": "98397e9a-882b-4d33-9f76-794354c0fae5",
   "metadata": {},
   "source": [
    "It's a very small dataset with just 10 time points showing the number of cells over time. With these short time series, both having a mechanistic model to fit it and having a Bayesian framework to do so helps us to make better sense of the science behind the process. We can visualize the data as."
   ]
  },
  {
   "cell_type": "code",
   "execution_count": 4,
   "id": "dc9d2ea2-efd0-4837-8012-135c2d22042f",
   "metadata": {},
   "outputs": [
    {
     "data": {
      "text/plain": [
       "Text(0, 0.5, 'cells')"
      ]
     },
     "execution_count": 4,
     "metadata": {},
     "output_type": "execute_result"
    },
    {
     "data": {
      "image/png": "[encoded data removed]",
      "text/plain": [
       "<Figure size 640x480 with 1 Axes>"
      ]
     },
     "metadata": {},
     "output_type": "display_data"
    }
   ],
   "source": [
    "import matplotlib.pyplot as plt\n",
    "plt.plot(data['times'],data['cells'],'o',color ='orange')\n",
    "plt.xlabel(data.columns[0])\n",
    "plt.ylabel(data.columns[1])\n"
   ]
  },
  {
   "cell_type": "markdown",
   "id": "0c9c89a6-8ae1-438a-a93a-5e7c5b40dfd8",
   "metadata": {},
   "source": [
    "However that can be complicated, let's start with the most simple way of fitting a nonlinear ODE model to the data."
   ]
  },
  {
   "cell_type": "markdown",
   "id": "eefe9fd2-8dde-492e-a462-5a46056366bc",
   "metadata": {},
   "source": [
    "### Use of Biological Mechanistic knowledge.\n",
    "This data is a growth data of the cells where they consume nutrients and we can use the blahblah model"
   ]
  },
  {
   "cell_type": "markdown",
   "id": "c099ab67-46d7-43db-8b81-338c89e80798",
   "metadata": {},
   "source": [
    "$$\n",
    "\\frac{dN}{dt} = -Q_n \\frac{\\mu_{max}N}{N+K_s}(P\\times10^6)\n",
    "$$\n",
    "\n",
    "$$\n",
    "\\frac{dP}{dt} = \\frac{\\mu_{max}N}{N+K_s} P\n",
    "$$"
   ]
  },
  {
   "cell_type": "markdown",
   "id": "36f85bbe-e3af-4106-a625-d67e45a917a0",
   "metadata": {},
   "source": [
    "### In this dataset the variable 'N' (nutrients) is latent (unobserved)"
   ]
  },
  {
   "cell_type": "code",
   "execution_count": 5,
   "id": "c6e014a7-26b8-4af2-99af-ce9f99affd6e",
   "metadata": {},
   "outputs": [],
   "source": [
    "import numpy as np\n",
    "from scipy.integrate import odeint\n",
    "t = np.linspace(0, 15, 100)\n",
    "\n",
    "def cells_grow(y,t,mu_max,Ks,Qn):\n",
    "    N, P = y\n",
    "    dydt = [0,0]\n",
    "    dydt[0] = -Qn*(mu_max*N)/(N+Ks) *(P*1e6)\n",
    "    dydt[1] = P*(mu_max*N)/(N+Ks)\n",
    "\n",
    "    return dydt\n",
    "\n",
    "def solved_num_cells(y0,t,mu_max,Ks,Qn):\n",
    "    sol = odeint(cells_grow, y0, t, args=(mu_max,Ks,Qn))\n",
    "    return sol[:,1]"
   ]
  },
  {
   "cell_type": "code",
   "execution_count": 39,
   "id": "e7a0df1b-0cfd-4b6a-81c1-002ce804874d",
   "metadata": {},
   "outputs": [
    {
     "data": {
      "image/png": "[encoded data removed]",
      "text/plain": [
       "<Figure size 640x480 with 1 Axes>"
      ]
     },
     "metadata": {},
     "output_type": "display_data"
    }
   ],
   "source": [
    "mu_max = 0.6\n",
    "Ks = 0.09\n",
    "Qn = 6.7e-10\n",
    "\n",
    "y0 = [ 6e2, data['cells'][0] ]\n",
    "num_cells_solved = solved_num_cells(y0,t,mu_max,Ks,Qn)\n",
    "\n",
    "plt.plot(t,num_cells_solved)\n",
    "plt.plot(data['times'],data['cells'],'o')\n",
    "plt.legend(['Simulation','real data'])\n",
    "plt.yscale('log')\n",
    "plt.xlabel('Time')\n",
    "plt.ylabel('cells')\n",
    "plt.show()\n"
   ]
  },
  {
   "cell_type": "code",
   "execution_count": null,
   "id": "1e33cb68-be54-4387-b28c-fd134d08aee3",
   "metadata": {},
   "outputs": [],
   "source": []
  },
  {
   "cell_type": "code",
   "execution_count": 40,
   "id": "a0b9efb5-ea54-4e1b-9f6a-b43b39e653ac",
   "metadata": {},
   "outputs": [
    {
     "ename": "ValueError",
     "evalue": "No gradients provided for any variable.",
     "output_type": "error",
     "traceback": [
      "\u001b[0;31m---------------------------------------------------------------------------\u001b[0m",
      "\u001b[0;31mValueError\u001b[0m                                Traceback (most recent call last)",
      "Cell \u001b[0;32mIn[40], line 50\u001b[0m\n\u001b[1;32m     48\u001b[0m     loss \u001b[38;5;241m=\u001b[39m cost_function_tf(params, data, log_transformed\u001b[38;5;241m=\u001b[39m\u001b[38;5;28;01mTrue\u001b[39;00m)\n\u001b[1;32m     49\u001b[0m grads \u001b[38;5;241m=\u001b[39m tape\u001b[38;5;241m.\u001b[39mgradient(loss, [params])\n\u001b[0;32m---> 50\u001b[0m \u001b[43moptimizer\u001b[49m\u001b[38;5;241;43m.\u001b[39;49m\u001b[43mapply_gradients\u001b[49m\u001b[43m(\u001b[49m\u001b[38;5;28;43mzip\u001b[39;49m\u001b[43m(\u001b[49m\u001b[43mgrads\u001b[49m\u001b[43m,\u001b[49m\u001b[43m \u001b[49m\u001b[43m[\u001b[49m\u001b[43mparams\u001b[49m\u001b[43m]\u001b[49m\u001b[43m)\u001b[49m\u001b[43m)\u001b[49m\n\u001b[1;32m     51\u001b[0m \u001b[38;5;28;01mif\u001b[39;00m i \u001b[38;5;241m%\u001b[39m \u001b[38;5;241m100\u001b[39m \u001b[38;5;241m==\u001b[39m \u001b[38;5;241m0\u001b[39m:  \u001b[38;5;66;03m# Print every 100 iterations\u001b[39;00m\n\u001b[1;32m     52\u001b[0m     \u001b[38;5;28mprint\u001b[39m(\u001b[38;5;124mf\u001b[39m\u001b[38;5;124m\"\u001b[39m\u001b[38;5;124mIteration \u001b[39m\u001b[38;5;132;01m{\u001b[39;00mi\u001b[38;5;132;01m}\u001b[39;00m\u001b[38;5;124m: Loss = \u001b[39m\u001b[38;5;132;01m{\u001b[39;00mloss\u001b[38;5;241m.\u001b[39mnumpy()\u001b[38;5;132;01m}\u001b[39;00m\u001b[38;5;124m\"\u001b[39m)\n",
      "File \u001b[0;32m~/Downloads/pymc-ODE-inference/pymc-ode/lib/python3.11/site-packages/keras/src/optimizers/base_optimizer.py:282\u001b[0m, in \u001b[0;36mBaseOptimizer.apply_gradients\u001b[0;34m(self, grads_and_vars)\u001b[0m\n\u001b[1;32m    280\u001b[0m \u001b[38;5;28;01mdef\u001b[39;00m \u001b[38;5;21mapply_gradients\u001b[39m(\u001b[38;5;28mself\u001b[39m, grads_and_vars):\n\u001b[1;32m    281\u001b[0m     grads, trainable_variables \u001b[38;5;241m=\u001b[39m \u001b[38;5;28mzip\u001b[39m(\u001b[38;5;241m*\u001b[39mgrads_and_vars)\n\u001b[0;32m--> 282\u001b[0m     \u001b[38;5;28;43mself\u001b[39;49m\u001b[38;5;241;43m.\u001b[39;49m\u001b[43mapply\u001b[49m\u001b[43m(\u001b[49m\u001b[43mgrads\u001b[49m\u001b[43m,\u001b[49m\u001b[43m \u001b[49m\u001b[43mtrainable_variables\u001b[49m\u001b[43m)\u001b[49m\n\u001b[1;32m    283\u001b[0m     \u001b[38;5;66;03m# Return iterations for compat with tf.keras.\u001b[39;00m\n\u001b[1;32m    284\u001b[0m     \u001b[38;5;28;01mreturn\u001b[39;00m \u001b[38;5;28mself\u001b[39m\u001b[38;5;241m.\u001b[39miterations\n",
      "File \u001b[0;32m~/Downloads/pymc-ODE-inference/pymc-ode/lib/python3.11/site-packages/keras/src/optimizers/base_optimizer.py:335\u001b[0m, in \u001b[0;36mBaseOptimizer.apply\u001b[0;34m(self, grads, trainable_variables)\u001b[0m\n\u001b[1;32m    328\u001b[0m grads, trainable_variables \u001b[38;5;241m=\u001b[39m (\n\u001b[1;32m    329\u001b[0m     \u001b[38;5;28mself\u001b[39m\u001b[38;5;241m.\u001b[39m_overwrite_variables_directly_with_gradients(\n\u001b[1;32m    330\u001b[0m         grads, trainable_variables\n\u001b[1;32m    331\u001b[0m     )\n\u001b[1;32m    332\u001b[0m )\n\u001b[1;32m    334\u001b[0m \u001b[38;5;66;03m# Filter empty gradients.\u001b[39;00m\n\u001b[0;32m--> 335\u001b[0m grads, trainable_variables \u001b[38;5;241m=\u001b[39m \u001b[38;5;28;43mself\u001b[39;49m\u001b[38;5;241;43m.\u001b[39;49m\u001b[43m_filter_empty_gradients\u001b[49m\u001b[43m(\u001b[49m\n\u001b[1;32m    336\u001b[0m \u001b[43m    \u001b[49m\u001b[43mgrads\u001b[49m\u001b[43m,\u001b[49m\u001b[43m \u001b[49m\u001b[43mtrainable_variables\u001b[49m\n\u001b[1;32m    337\u001b[0m \u001b[43m\u001b[49m\u001b[43m)\u001b[49m\n\u001b[1;32m    338\u001b[0m \u001b[38;5;28;01mif\u001b[39;00m \u001b[38;5;28mlen\u001b[39m(\u001b[38;5;28mlist\u001b[39m(grads)) \u001b[38;5;241m==\u001b[39m \u001b[38;5;241m0\u001b[39m:\n\u001b[1;32m    339\u001b[0m     \u001b[38;5;28;01mreturn\u001b[39;00m\n",
      "File \u001b[0;32m~/Downloads/pymc-ODE-inference/pymc-ode/lib/python3.11/site-packages/keras/src/optimizers/base_optimizer.py:662\u001b[0m, in \u001b[0;36mBaseOptimizer._filter_empty_gradients\u001b[0;34m(self, grads, vars)\u001b[0m\n\u001b[1;32m    659\u001b[0m         missing_grad_vars\u001b[38;5;241m.\u001b[39mappend(v\u001b[38;5;241m.\u001b[39mname)\n\u001b[1;32m    661\u001b[0m \u001b[38;5;28;01mif\u001b[39;00m \u001b[38;5;129;01mnot\u001b[39;00m filtered_grads:\n\u001b[0;32m--> 662\u001b[0m     \u001b[38;5;28;01mraise\u001b[39;00m \u001b[38;5;167;01mValueError\u001b[39;00m(\u001b[38;5;124m\"\u001b[39m\u001b[38;5;124mNo gradients provided for any variable.\u001b[39m\u001b[38;5;124m\"\u001b[39m)\n\u001b[1;32m    663\u001b[0m \u001b[38;5;28;01mif\u001b[39;00m missing_grad_vars:\n\u001b[1;32m    664\u001b[0m     warnings\u001b[38;5;241m.\u001b[39mwarn(\n\u001b[1;32m    665\u001b[0m         \u001b[38;5;124m\"\u001b[39m\u001b[38;5;124mGradients do not exist for variables \u001b[39m\u001b[38;5;124m\"\u001b[39m\n\u001b[1;32m    666\u001b[0m         \u001b[38;5;124mf\u001b[39m\u001b[38;5;124m\"\u001b[39m\u001b[38;5;132;01m{\u001b[39;00m\u001b[38;5;28mlist\u001b[39m(\u001b[38;5;28mreversed\u001b[39m(missing_grad_vars))\u001b[38;5;132;01m}\u001b[39;00m\u001b[38;5;124m when minimizing the loss.\u001b[39m\u001b[38;5;124m\"\u001b[39m\n\u001b[1;32m    667\u001b[0m         \u001b[38;5;124m\"\u001b[39m\u001b[38;5;124m If using `model.compile()`, did you forget to provide a \u001b[39m\u001b[38;5;124m\"\u001b[39m\n\u001b[1;32m    668\u001b[0m         \u001b[38;5;124m\"\u001b[39m\u001b[38;5;124m`loss` argument?\u001b[39m\u001b[38;5;124m\"\u001b[39m\n\u001b[1;32m    669\u001b[0m     )\n",
      "\u001b[0;31mValueError\u001b[0m: No gradients provided for any variable."
     ]
    }
   ],
   "source": [
    "import numpy as np\n",
    "import tensorflow as tf\n",
    "from scipy.integrate import odeint\n",
    "\n",
    "# Define the model function\n",
    "def cells_grow(y, t, mu_max, Ks, Qn):\n",
    "    N, P = y\n",
    "    dydt = [0, 0]\n",
    "    dydt[0] = -Qn * (mu_max * N) / (N + Ks) * (P * 1e6)\n",
    "    dydt[1] = P * (mu_max * N) / (N + Ks)\n",
    "    return dydt\n",
    "\n",
    "# Define the solver function\n",
    "def solved_num_cells(y0, t, mu_max, Ks, Qn):\n",
    "    sol = odeint(cells_grow, y0, t, args=(mu_max, Ks, Qn))\n",
    "    return sol[:, 1]\n",
    "\n",
    "# Sample data for demonstration (replace with your actual data)\n",
    "data = {\n",
    "    'cells': np.array([600, 700, 800, 900, 1000, 1100, 1200, 1300, 1400, 1500]),\n",
    "    'times': np.linspace(0, 15, 10)  # times corresponding to the cell counts\n",
    "}\n",
    "\n",
    "# Define the cost function for TensorFlow\n",
    "def cost_function_tf(params, data, log_transformed=True):\n",
    "    mu_max, Ks, Qn, N0 = params\n",
    "    y0 = [N0, data['cells'][0]]\n",
    "    num_cells_solved = solved_num_cells(y0, data['times'], mu_max, Ks, Qn)\n",
    "    if log_transformed:\n",
    "        error = np.sum((np.log(num_cells_solved) / 2.303 - np.log(data['cells']) / 2.303) ** 2)\n",
    "    else:\n",
    "        error = np.sum((num_cells_solved - data['cells']) ** 2)\n",
    "    \n",
    "    return tf.convert_to_tensor(error, dtype=tf.float64)\n",
    "\n",
    "# Initial guess for the parameters\n",
    "initial_guess = np.array([0.5, 20, 6.7e-10, 1e3], dtype=np.float64)\n",
    "\n",
    "# Convert initial guess to TensorFlow variable\n",
    "params = tf.Variable(initial_guess, dtype=tf.float64)\n",
    "\n",
    "# Set up the optimizer\n",
    "optimizer = tf.optimizers.Adam(learning_rate=0.01)\n",
    "\n",
    "# Training loop\n",
    "for i in range(1000):  # Number of iterations\n",
    "    with tf.GradientTape() as tape:\n",
    "        loss = cost_function_tf(params, data, log_transformed=True)\n",
    "    grads = tape.gradient(loss, [params])\n",
    "    optimizer.apply_gradients(zip(grads, [params]))\n",
    "    if i % 100 == 0:  # Print every 100 iterations\n",
    "        print(f\"Iteration {i}: Loss = {loss.numpy()}\")\n",
    "\n",
    "# Optimized parameters\n",
    "mu_max_opt, Ks_opt, Qn_opt, N0_opt = params.numpy()\n",
    "print(f\"Optimized parameters: mu_max={mu_max_opt}, Ks={Ks_opt}, Qn={Qn_opt}, N0={N0_opt}\")\n"
   ]
  },
  {
   "cell_type": "code",
   "execution_count": null,
   "id": "2582f7b9-6967-4614-b370-6572001786f9",
   "metadata": {},
   "outputs": [],
   "source": []
  }
 ],
 "metadata": {
  "kernelspec": {
   "display_name": "Python 3 (ipykernel)",
   "language": "python",
   "name": "python3"
  },
  "language_info": {
   "codemirror_mode": {
    "name": "ipython",
    "version": 3
   },
   "file_extension": ".py",
   "mimetype": "text/x-python",
   "name": "python",
   "nbconvert_exporter": "python",
   "pygments_lexer": "ipython3",
   "version": "3.11.4"
  }
 },
 "nbformat": 4,
 "nbformat_minor": 5
}
